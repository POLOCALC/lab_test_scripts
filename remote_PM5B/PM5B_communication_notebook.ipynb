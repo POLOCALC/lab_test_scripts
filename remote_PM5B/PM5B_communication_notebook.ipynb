{
 "cells": [
  {
   "cell_type": "code",
   "execution_count": 1,
   "id": "eccea7df-a699-4d0e-a5b6-9c0c336f6774",
   "metadata": {},
   "outputs": [
    {
     "name": "stdout",
     "output_type": "stream",
     "text": [
      "connection to power meter...\n",
      "Powermeter successfully connected\n"
     ]
    }
   ],
   "source": [
    "from pyPM5 import PM5\n",
    "import copy\n",
    "import numpy as np\n",
    "import matplotlib.pyplot as plt\n",
    "import time\n",
    "\n",
    "pm=PM5()\n",
    "pm.connect('USB0::1027::24577::856V::0::RAW')"
   ]
  },
  {
   "cell_type": "code",
   "execution_count": 2,
   "id": "c3383681-f98b-489c-961c-242ff69f4540",
   "metadata": {},
   "outputs": [
    {
     "name": "stdout",
     "output_type": "stream",
     "text": [
      "Range set to 200mW, Range Hold = On\n"
     ]
    }
   ],
   "source": [
    "pm.set_range(4,1)"
   ]
  },
  {
   "cell_type": "code",
   "execution_count": 10,
   "id": "aedb28ff-5a05-46f8-ab3c-458da6e0cf64",
   "metadata": {},
   "outputs": [
    {
     "name": "stdout",
     "output_type": "stream",
     "text": [
      "Calibration heater set to: 0\n"
     ]
    }
   ],
   "source": [
    "pm.set_cal_heater(0)"
   ]
  },
  {
   "cell_type": "code",
   "execution_count": 6,
   "id": "d984d50f-e12d-47ab-98c0-b946a2eebd40",
   "metadata": {},
   "outputs": [],
   "source": [
    "#pm.set_cal_heater(0) # set the cal heater to zero, no matter what it is physically\n",
    "#time.sleep(10) # wait some time before lauch another command\n",
    "#pm.set_cal_heater(3)"
   ]
  },
  {
   "cell_type": "code",
   "execution_count": 7,
   "id": "a767804b-57ff-4a95-829d-10bb6330a918",
   "metadata": {},
   "outputs": [
    {
     "name": "stdout",
     "output_type": "stream",
     "text": [
      "PM5B current settings:\n",
      "PM range settings: 200mW\n",
      "PM cal factor: 0.0\n",
      "PM cal heater: None\n",
      "PM auto range: Not in auto range\n",
      "PM hold range: On\n"
     ]
    }
   ],
   "source": [
    "pm.print_settings()"
   ]
  },
  {
   "cell_type": "code",
   "execution_count": 4,
   "id": "cd3ec3df-ec81-4d8a-b9c5-2de205e3b1b1",
   "metadata": {},
   "outputs": [
    {
     "name": "stdout",
     "output_type": "stream",
     "text": [
      "Power meter zeroed\n"
     ]
    }
   ],
   "source": [
    "pm.set_zero()"
   ]
  },
  {
   "cell_type": "code",
   "execution_count": 8,
   "id": "ffaaa85e-e576-432e-907f-57a1c8f29a24",
   "metadata": {},
   "outputs": [
    {
     "name": "stdout",
     "output_type": "stream",
     "text": [
      "35.17838740348816 s\n"
     ]
    }
   ],
   "source": [
    "count=0\n",
    "time_plot = []\n",
    "power = []\n",
    "\n",
    "time_in = time.time()\n",
    "while(count<100):\n",
    "    power.append(pm.read_power())\n",
    "    time_plot.append(time.time()-time_in)\n",
    "    count+=1\n",
    "\n",
    "time_end = time.time()\n",
    "\n",
    "timeit = time_end-time_in\n",
    "print(f\"{timeit} s\")"
   ]
  },
  {
   "cell_type": "code",
   "execution_count": 36,
   "id": "db7c57f9-f6ca-440b-9b7c-4de768a847b2",
   "metadata": {},
   "outputs": [
    {
     "name": "stdout",
     "output_type": "stream",
     "text": [
      "1000\n"
     ]
    }
   ],
   "source": [
    "print(count)"
   ]
  },
  {
   "cell_type": "code",
   "execution_count": 11,
   "id": "83382444-c2e5-4f18-a54a-4e43f5f16e2a",
   "metadata": {},
   "outputs": [
    {
     "data": {
      "text/plain": [
       "Text(0, 0.5, 'Power [W]')"
      ]
     },
     "execution_count": 11,
     "metadata": {},
     "output_type": "execute_result"
    },
    {
     "data": {
      "image/png": "[encoded data removed]",
      "text/plain": [
       "<Figure size 640x480 with 1 Axes>"
      ]
     },
     "metadata": {},
     "output_type": "display_data"
    }
   ],
   "source": [
    "plt.plot(time_plot,power)\n",
    "plt.xlabel('time')\n",
    "#plt.ylim(0.0001,0.0003)\n",
    "plt.ylabel('Power [W]')"
   ]
  },
  {
   "cell_type": "code",
   "execution_count": 10,
   "id": "320f7f6b-bcb2-4263-a433-b0393f615649",
   "metadata": {},
   "outputs": [
    {
     "name": "stdout",
     "output_type": "stream",
     "text": [
      "Powermeter successfully closed\n"
     ]
    }
   ],
   "source": [
    "pm.close()"
   ]
  },
  {
   "cell_type": "code",
   "execution_count": null,
   "id": "af96b34f-ebf0-4b9e-9b56-240217f5f5dd",
   "metadata": {},
   "outputs": [],
   "source": []
  }
 ],
 "metadata": {
  "kernelspec": {
   "display_name": "Python 3 (ipykernel)",
   "language": "python",
   "name": "python3"
  },
  "language_info": {
   "codemirror_mode": {
    "name": "ipython",
    "version": 3
   },
   "file_extension": ".py",
   "mimetype": "text/x-python",
   "name": "python",
   "nbconvert_exporter": "python",
   "pygments_lexer": "ipython3",
   "version": "3.11.2"
  }
 },
 "nbformat": 4,
 "nbformat_minor": 5
}
