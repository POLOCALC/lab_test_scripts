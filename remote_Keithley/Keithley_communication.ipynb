{
 "cells": [
  {
   "cell_type": "code",
   "execution_count": 1,
   "id": "e76d44c0-bc93-46da-aa5f-4c550c8c2973",
   "metadata": {},
   "outputs": [],
   "source": [
    "import pyvisa\n",
    "import numpy as np\n",
    "from pyKeithley import myKeithley\n",
    "\n",
    "#import sys\n",
    "#sys.append.path()"
   ]
  },
  {
   "cell_type": "code",
   "execution_count": 2,
   "id": "366d6e1d-fd20-4bba-9d32-7fee0861cd47",
   "metadata": {},
   "outputs": [
    {
     "data": {
      "text/plain": [
       "('ASRL/dev/ttyUSB1::INSTR',\n",
       " 'ASRL/dev/ttyAMA3::INSTR',\n",
       " 'ASRL/dev/ttyAMA4::INSTR',\n",
       " 'ASRL/dev/ttyAMA5::INSTR',\n",
       " 'ASRL/dev/ttyAMA0::INSTR')"
      ]
     },
     "execution_count": 2,
     "metadata": {},
     "output_type": "execute_result"
    }
   ],
   "source": [
    "rm = pyvisa.ResourceManager()\n",
    "addr = rm.list_resources() # USB0 is the top USB port in RPy, USB1 is the bottom one\n",
    "addr"
   ]
  },
  {
   "cell_type": "code",
   "execution_count": 3,
   "id": "90a237a7-e80e-4b13-b3d7-e7ce366c6bf8",
   "metadata": {},
   "outputs": [
    {
     "name": "stdout",
     "output_type": "stream",
     "text": [
      "connection to Keithley...\n",
      "Keithley successfully connected\n"
     ]
    }
   ],
   "source": [
    "ps = myKeithley()\n",
    "ps.connect(addr[0])"
   ]
  },
  {
   "cell_type": "code",
   "execution_count": 7,
   "id": "1bcba1d9-cc4d-44d1-b0ef-4f0c327f15e4",
   "metadata": {},
   "outputs": [
    {
     "name": "stdout",
     "output_type": "stream",
     "text": [
      "You're not allowed to turn on the power supply without current limitations. Set the current limitation and try again...\n"
     ]
    }
   ],
   "source": [
    "ps.switch_on_output()"
   ]
  },
  {
   "cell_type": "code",
   "execution_count": 4,
   "id": "c38db575-27d7-4441-9d0c-15bb2f39ca26",
   "metadata": {},
   "outputs": [
    {
     "name": "stdout",
     "output_type": "stream",
     "text": [
      "Tension on Ch1 set to 8 V\n",
      "Tension on Ch2 set to 5 V\n",
      "Tension on Ch3 set to 4 V\n",
      "Current limitation on Ch1 set to 0.8 A\n",
      "Current limitation on Ch2 set to 1.6 A\n",
      "Current limitation on Ch3 set to 0.15 A\n"
     ]
    }
   ],
   "source": [
    "# initialize the Keithley settings:\n",
    "ps.set_tensions(tension_CH1=8,tension_CH2=5,tension_CH3=4)\n",
    "ps.set_current_limitations(current_CH1=0.8,current_CH2=1.6,current_CH3=0.150)"
   ]
  },
  {
   "cell_type": "code",
   "execution_count": 5,
   "id": "24dcd507-b93e-45ab-ba07-fe677573a442",
   "metadata": {},
   "outputs": [
    {
     "name": "stdout",
     "output_type": "stream",
     "text": [
      "Output of the power supply: ON\n"
     ]
    }
   ],
   "source": [
    "ps.switch_on_output()"
   ]
  },
  {
   "cell_type": "code",
   "execution_count": 6,
   "id": "365f83d6-6dff-4219-960f-34848d55cc79",
   "metadata": {},
   "outputs": [
    {
     "name": "stdout",
     "output_type": "stream",
     "text": [
      "Tension on Channel3 set to 4.5\n"
     ]
    }
   ],
   "source": [
    "ps.set_single_tension(Ch_idx=3,tension_value=4.5)"
   ]
  },
  {
   "cell_type": "code",
   "execution_count": 7,
   "id": "ed2f5f2d-e16f-4439-990b-99078cb7b0fd",
   "metadata": {},
   "outputs": [
    {
     "name": "stdout",
     "output_type": "stream",
     "text": [
      "Current Channels settings: \n",
      " Ch1: {'Tension (V)': {8}, 'Current Limitation (A)': {0.8}} \n",
      " Ch2: {'Tension (V)': {5}, 'Current Limitation (A)': {1.6}} \n",
      " Ch3: {'Tension (V)': {4.5}, 'Current Limitation (A)': {0.15}} \n",
      "Current output state: ON\n"
     ]
    }
   ],
   "source": [
    "ps.print_settings()"
   ]
  },
  {
   "cell_type": "code",
   "execution_count": 8,
   "id": "c24c75a4-b68a-4ea3-a0b0-08185a4cec5a",
   "metadata": {},
   "outputs": [
    {
     "name": "stdout",
     "output_type": "stream",
     "text": [
      "Output of the power supply: OFF\n"
     ]
    }
   ],
   "source": [
    "ps.switch_off_output()"
   ]
  },
  {
   "cell_type": "code",
   "execution_count": 9,
   "id": "9c10747e-11b6-47ea-9ddb-1face4a278b7",
   "metadata": {},
   "outputs": [
    {
     "name": "stdout",
     "output_type": "stream",
     "text": [
      "Keithley succesfully disconnected\n"
     ]
    }
   ],
   "source": [
    "ps.close()"
   ]
  },
  {
   "cell_type": "code",
   "execution_count": null,
   "id": "6b71396b-405c-4cbb-bb83-26c47262e671",
   "metadata": {},
   "outputs": [],
   "source": []
  },
  {
   "cell_type": "code",
   "execution_count": null,
   "id": "421eb67a-d740-4693-b622-6bfe6c7a0d95",
   "metadata": {},
   "outputs": [],
   "source": []
  },
  {
   "cell_type": "code",
   "execution_count": null,
   "id": "99c15a29-a342-4ca4-8412-7123f26c0ac6",
   "metadata": {},
   "outputs": [],
   "source": []
  }
 ],
 "metadata": {
  "kernelspec": {
   "display_name": "Python 3 (ipykernel)",
   "language": "python",
   "name": "python3"
  },
  "language_info": {
   "codemirror_mode": {
    "name": "ipython",
    "version": 3
   },
   "file_extension": ".py",
   "mimetype": "text/x-python",
   "name": "python",
   "nbconvert_exporter": "python",
   "pygments_lexer": "ipython3",
   "version": "3.11.2"
  }
 },
 "nbformat": 4,
 "nbformat_minor": 5
}
